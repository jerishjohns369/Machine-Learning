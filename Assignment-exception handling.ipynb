{
 "cells": [
  {
   "cell_type": "markdown",
   "metadata": {},
   "source": [
    "#### 1. Write a function to compute 5/0 and use try/except to catch the exceptions. "
   ]
  },
  {
   "cell_type": "code",
   "execution_count": 1,
   "metadata": {},
   "outputs": [],
   "source": [
    "def divide_by_zero():\n",
    "    return 5/0"
   ]
  },
  {
   "cell_type": "code",
   "execution_count": 3,
   "metadata": {},
   "outputs": [
    {
     "name": "stdout",
     "output_type": "stream",
     "text": [
      "Division by zero not possible\n"
     ]
    }
   ],
   "source": [
    "try:\n",
    "    divide_by_zero()\n",
    "except:\n",
    "    print(\"Division by zero not possible\")"
   ]
  },
  {
   "cell_type": "markdown",
   "metadata": {},
   "source": [
    "#### Implement a Python program to generate all sentences where subject is in  [\"Americans\", \"Indians\"] and verb is in [\"Play\", \"watch\"] and the object is in  [\"Baseball\",\"cricket\"]. "
   ]
  },
  {
   "cell_type": "code",
   "execution_count": 7,
   "metadata": {},
   "outputs": [],
   "source": [
    "subjects = [\"Americans\",\"Indians\"]\n",
    "verbs = [\"Play\",\"Watch\"]\n",
    "object_list = [\"Baseball\",\"Cricket\"]"
   ]
  },
  {
   "cell_type": "code",
   "execution_count": 17,
   "metadata": {},
   "outputs": [
    {
     "name": "stdout",
     "output_type": "stream",
     "text": [
      "Americans Play Baseball\n",
      "Americans Play Cricket\n",
      "Americans Watch Baseball\n",
      "Americans Watch Cricket\n",
      "Indians Play Baseball\n",
      "Indians Play Cricket\n",
      "Indians Watch Baseball\n",
      "Indians Watch Cricket\n"
     ]
    }
   ],
   "source": [
    "print(*['{} {} {}'.format(sub,ver,obj) for sub in subjects for ver in verbs for obj in object_list],sep='\\n')"
   ]
  },
  {
   "cell_type": "code",
   "execution_count": null,
   "metadata": {},
   "outputs": [],
   "source": []
  }
 ],
 "metadata": {
  "kernelspec": {
   "display_name": "Python 3",
   "language": "python",
   "name": "python3"
  },
  "language_info": {
   "codemirror_mode": {
    "name": "ipython",
    "version": 3
   },
   "file_extension": ".py",
   "mimetype": "text/x-python",
   "name": "python",
   "nbconvert_exporter": "python",
   "pygments_lexer": "ipython3",
   "version": "3.8.5"
  }
 },
 "nbformat": 4,
 "nbformat_minor": 4
}
