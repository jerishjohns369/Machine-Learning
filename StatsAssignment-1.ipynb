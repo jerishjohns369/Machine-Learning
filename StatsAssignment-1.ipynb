{
 "cells": [
  {
   "cell_type": "code",
   "execution_count": 25,
   "metadata": {},
   "outputs": [],
   "source": [
    "import numpy as np\n",
    "from scipy import stats\n",
    "import statistics as st\n",
    "from scipy import integrate\n",
    "import math"
   ]
  },
  {
   "cell_type": "markdown",
   "metadata": {},
   "source": [
    "#### Calculate the mean, median, mode and standard deviation for the problem  statements 1& 2.\n",
    "#### Problem Statement 1: \n",
    "#### The marks awarded for an assignment set for a Year 8 class of 20 students were as \n",
    "#### follows:\n",
    "#### 6 7 5 7 7 8 7 6 9 7 4 10 6 8 8 9 5 6 4 8  "
   ]
  },
  {
   "cell_type": "code",
   "execution_count": 26,
   "metadata": {},
   "outputs": [
    {
     "name": "stdout",
     "output_type": "stream",
     "text": [
      "Mean :6.85\n",
      "Median :7.0\n",
      "Mode :ModeResult(mode=array([7]), count=array([5]))\n",
      "Standard Deviation :1.5898113095584647\n"
     ]
    }
   ],
   "source": [
    "marks = [6,7,5,7,7,8,7,6,9,7,4,10,6,8,8,9,5,6,4,8]\n",
    "print(f'Mean :{np.mean(marks)}')\n",
    "print(f'Median :{np.median(marks)}')\n",
    "print(f'Mode :{stats.mode(marks)}')\n",
    "print(f'Standard Deviation :{np.std(marks)}')"
   ]
  },
  {
   "cell_type": "markdown",
   "metadata": {},
   "source": [
    "#### Problem Statement 2: \n",
    "#### The number of calls from motorists per day for roadside service was recorded for a particular month:\n",
    "#### 28, 122, 217, 130, 120, 86, 80, 90, 140, 120, 70, 40, 145, 113, 90, 68, 174, 194, 170, 100, 75, 104, 97, 75,123, 100, 75, 104, 97, 75, 123, 100, 89, 120, 109"
   ]
  },
  {
   "cell_type": "code",
   "execution_count": 27,
   "metadata": {},
   "outputs": [
    {
     "name": "stdout",
     "output_type": "stream",
     "text": [
      "Mean :107.51428571428572\n",
      "Median :100.0\n",
      "Mode :ModeResult(mode=array([75]), count=array([4]))\n",
      "Standard Deviation :38.77287080168403\n"
     ]
    }
   ],
   "source": [
    "number_of_calls = [28, 122, 217, 130, 120, 86, 80, 90, 140, 120, 70, 40, 145, 113, 90, 68, 174, 194, 170, 100, 75, 104, 97, 75,123, 100, 75, 104, 97, 75, 123, 100, 89, 120, 109]\n",
    "\n",
    "print(f'Mean :{np.mean(number_of_calls)}')\n",
    "print(f'Median :{np.median(number_of_calls)}')\n",
    "print(f'Mode :{stats.mode(number_of_calls)}')\n",
    "print(f'Standard Deviation :{np.std(number_of_calls)}')"
   ]
  },
  {
   "cell_type": "markdown",
   "metadata": {},
   "source": [
    "#### Problem Statement 3: \n",
    "#### The number of times I go to the gym in weekdays, are given below along with its associated probability:\n",
    "####  x = 0, 1, 2, 3, 4, 5\n",
    "####  f(x) = 0.09, 0.15, 0.40, 0.25, 0.10, 0.01\n",
    "####  Calculate the mean no. of workouts in a week. Also evaluate the variance involved in it."
   ]
  },
  {
   "cell_type": "code",
   "execution_count": 28,
   "metadata": {},
   "outputs": [
    {
     "name": "stdout",
     "output_type": "stream",
     "text": [
      "Mean of no of workouts in a week 2.1500000000000004\n",
      "Variance : [1.2275]\n"
     ]
    }
   ],
   "source": [
    "no_of_workout_days = np.array([ 0, 1, 2, 3, 4, 5])\n",
    "probability_distribution = np.array([0.09, 0.15, 0.40, 0.25, 0.10, 0.01])\n",
    "\n",
    "no_of_workout_days.reshape(1,-1)\n",
    "probability_distribution.reshape(-1,1)\n",
    "mean = np.dot(no_of_workout_days,probability_distribution)\n",
    "variance_no_of_workout_days = (no_of_workout_days-mean)**2\n",
    "variance = np.dot(variance_no_of_workout_days.reshape(1,-1),probability_distribution)\n",
    "print(f'Mean of no of workouts in a week {mean}')\n",
    "print(f'Variance : {variance}')"
   ]
  },
  {
   "cell_type": "markdown",
   "metadata": {},
   "source": [
    "#### Let the continuous random variable D denote the diameter of the hole drilled in an aluminum sheet. The target diameter to be achieved is 12.5mm. Random disturbances in the process often result in inaccuracy.Historical data shows that the distribution of D can be modelled by the PDF (𝑑) = 20𝑒−20(𝑑−12.5), 𝑑 ≥ 12.5. If a part with diameter > 12.6 mm needs to be scrapped, what is the proportion of those parts? What is the CDF when the diameter is of 11 mm? What is your conclusion regarding the proportion of scraps?"
   ]
  },
  {
   "cell_type": "code",
   "execution_count": 29,
   "metadata": {},
   "outputs": [
    {
     "name": "stdout",
     "output_type": "stream",
     "text": [
      "Proportion of parts to be scrapped is 0.13533528323661398\n",
      "Cdf when diameter = 11 is nan\n",
      "\n"
     ]
    },
    {
     "name": "stderr",
     "output_type": "stream",
     "text": [
      "<ipython-input-29-2f93f6ed0bca>:1: RuntimeWarning: overflow encountered in exp\n",
      "  pdf_function = PDF=lambda d:20*(np.exp((-20*(d-12.5))))\n",
      "<ipython-input-29-2f93f6ed0bca>:3: IntegrationWarning: The maximum number of subdivisions (50) has been achieved.\n",
      "  If increasing the limit yields no improvement it is advised to analyze \n",
      "  the integrand in order to determine the difficulties.  If the position of a \n",
      "  local difficulty can be determined (singularity, discontinuity) one will \n",
      "  probably gain from splitting up the interval and calling the integrator \n",
      "  on the subranges.  Perhaps a special-purpose integrator should be used.\n",
      "  print(f'Cdf when diameter = 11 is {integrate.quad(pdf_function,-np.inf,11)[0]}')\n"
     ]
    }
   ],
   "source": [
    "pdf_function = PDF=lambda d:20*(np.exp((-20*(d-12.5))))\n",
    "print(f'Proportion of parts to be scrapped is {integrate.quad(pdf_function,12.6,np.inf)[0]}') \n",
    "print(f'Cdf when diameter = 11 is {integrate.quad(pdf_function,-np.inf,11)[0]}')\n",
    "print(f'')\n"
   ]
  },
  {
   "cell_type": "markdown",
   "metadata": {},
   "source": [
    "#### A company manufactures LED bulbs with a faulty rate of 30%. If I randomly select 6 chosen LEDs, what is the probability of having 2 faulty LEDs in my sample? Calculate the average value of this process. Also evaluate the standard deviation associated with it."
   ]
  },
  {
   "cell_type": "code",
   "execution_count": 30,
   "metadata": {},
   "outputs": [
    {
     "name": "stdout",
     "output_type": "stream",
     "text": [
      "Probability of having two faulty leds is 0.32413499999999995\n",
      "mean and standDeviation is 1.7999999999999998 and 1.1224972160321822 respectively\n"
     ]
    }
   ],
   "source": [
    "#binomial distribution\n",
    "mean,variance = stats.binom.stats(n=6,p=0.3)\n",
    "print(f'Probability of having two faulty leds is {stats.binom.pmf(k=2,n=6,p=0.3)}')\n",
    "print(f'mean and standDeviation is {mean} and {math.sqrt(variance)} respectively')"
   ]
  },
  {
   "cell_type": "markdown",
   "metadata": {},
   "source": [
    "#### 6.Gaurav and Barakha are both preparing for entrance exams. Gaurav attempts to solve 8 questions per day with a correction rate of 75%, while Barakha averages around 12 questions per day with a correction rate of 45%. What is the probability that each of them will solve 5 questions correctly? What happens in cases of 4 and 6 correct solutions? What do you infer from it? What are the two main governing factors affecting their ability to solve questions correctly? Give a pictorial representation of the same to validate your answer."
   ]
  },
  {
   "cell_type": "code",
   "execution_count": 31,
   "metadata": {},
   "outputs": [
    {
     "name": "stdout",
     "output_type": "stream",
     "text": [
      "Probability of each of them solving 5 questions correctly is:0.04619989057299213\n",
      "Probability of each of them solving 4,6 questions correctly is:0.018374956477894576\n"
     ]
    }
   ],
   "source": [
    "print(f\"Probability of each of them solving 5 questions correctly is:{stats.binom.pmf(5,8,0.75)*stats.binom.pmf(5,12,0.45)}\")\n",
    "print(f\"Probability of each of them solving 4,6 questions correctly is:{stats.binom.pmf(4,8,0.75)*stats.binom.pmf(6,12,0.45)}\")"
   ]
  },
  {
   "cell_type": "code",
   "execution_count": 32,
   "metadata": {},
   "outputs": [],
   "source": [
    "import matplotlib.pyplot as plt\n",
    "def plot_prob(n,p,):\n",
    "    fig,ax=plt.subplots(1,1)\n",
    "    x = np.arange(stats.binom.ppf(0.01, n, p),stats.binom.ppf(0.99, n, p))\n",
    "    ax.plot(x, stats.binom.pmf(x, n, p), 'bo', ms=8, label='binom pmf')\n",
    "    ax.vlines(x, 0, stats.binom.pmf(x, n, p), colors='b', lw=5, alpha=0.5)"
   ]
  },
  {
   "cell_type": "code",
   "execution_count": 33,
   "metadata": {},
   "outputs": [
    {
     "data": {
      "image/png": "[encoded data removed]",
      "text/plain": [
       "<Figure size 432x288 with 1 Axes>"
      ]
     },
     "metadata": {
      "needs_background": "light"
     },
     "output_type": "display_data"
    }
   ],
   "source": [
    "plot_prob(8,0.75) #Gaurav"
   ]
  },
  {
   "cell_type": "code",
   "execution_count": 34,
   "metadata": {},
   "outputs": [
    {
     "data": {
      "image/png": "[encoded data removed]",
      "text/plain": [
       "<Figure size 432x288 with 1 Axes>"
      ]
     },
     "metadata": {
      "needs_background": "light"
     },
     "output_type": "display_data"
    }
   ],
   "source": [
    "plot_prob(12,0.45) #Barakha"
   ]
  },
  {
   "cell_type": "code",
   "execution_count": 35,
   "metadata": {},
   "outputs": [
    {
     "data": {
      "text/plain": [
       "<matplotlib.collections.LineCollection at 0x23755b9e460>"
      ]
     },
     "execution_count": 35,
     "metadata": {},
     "output_type": "execute_result"
    },
    {
     "data": {
      "image/png": "[encoded data removed]",
      "text/plain": [
       "<Figure size 432x288 with 1 Axes>"
      ]
     },
     "metadata": {
      "needs_background": "light"
     },
     "output_type": "display_data"
    }
   ],
   "source": [
    "fig,ax=plt.subplots(1,1)\n",
    "x = np.arange(1,11)\n",
    "ax.plot(x, stats.binom.pmf(x,8,0.75)*stats.binom.pmf(x,12,0.45), 'bo', ms=10, label='binom pmf')\n",
    "ax.vlines(x, 0, stats.binom.pmf(x,8,0.75)*stats.binom.pmf(x,12,0.45))"
   ]
  },
  {
   "cell_type": "markdown",
   "metadata": {},
   "source": [
    "#### 7.Customers arrive at a rate of 72 per hour to my shop. What is the probability of 𝑘 customers arriving in 4 minutes? a) 5 customers, b) not more than 3 customers, c) more than 3 customers. Give a pictorial representation of the same to validate your answer.\n"
   ]
  },
  {
   "cell_type": "code",
   "execution_count": 36,
   "metadata": {},
   "outputs": [
    {
     "name": "stdout",
     "output_type": "stream",
     "text": [
      "Probability of 5 customers is 0.17474768364388296 \n",
      "Probability of not more than 3 customers is 0.29422991649656405 \n",
      "Probability of more than 3 customers is 0.35677652077292754 \n"
     ]
    }
   ],
   "source": [
    "customer_per_minute = 72/60\n",
    "customer_four_minute = 4*customer_per_minute\n",
    "#5Customers\n",
    "stats.poisson\n",
    "print(f'Probability of 5 customers is {stats.poisson.pmf(k=5,mu = customer_four_minute)} ')\n",
    "print(f'Probability of not more than 3 customers is {sum(stats.poisson.pmf(k=[0,1,2,3],mu = customer_four_minute))} ')\n",
    "print(f'Probability of more than 3 customers is {sum(stats.poisson.pmf(k=[4,5],mu = customer_four_minute))} ')"
   ]
  },
  {
   "cell_type": "code",
   "execution_count": 37,
   "metadata": {},
   "outputs": [
    {
     "name": "stderr",
     "output_type": "stream",
     "text": [
      "C:\\ProgramData\\Anaconda3\\lib\\site-packages\\seaborn\\distributions.py:2551: FutureWarning: `distplot` is a deprecated function and will be removed in a future version. Please adapt your code to use either `displot` (a figure-level function with similar flexibility) or `histplot` (an axes-level function for histograms).\n",
      "  warnings.warn(msg, FutureWarning)\n"
     ]
    },
    {
     "data": {
      "text/plain": [
       "<AxesSubplot:ylabel='Density'>"
      ]
     },
     "execution_count": 37,
     "metadata": {},
     "output_type": "execute_result"
    },
    {
     "data": {
      "image/png": "[encoded data removed]",
      "text/plain": [
       "<Figure size 432x288 with 1 Axes>"
      ]
     },
     "metadata": {
      "needs_background": "light"
     },
     "output_type": "display_data"
    }
   ],
   "source": [
    "import seaborn as sns\n",
    "poisson_data=stats.poisson.rvs(mu=customer_four_minute,size=1000)\n",
    "sns.distplot(poisson_data,kde=True,color=\"red\")"
   ]
  },
  {
   "cell_type": "markdown",
   "metadata": {},
   "source": [
    "#### 8.I work as a data analyst in Aeon Learning Pvt. Ltd. After analyzing data, I make reports, where I have the efficiency of entering 77 words per minute with 6 errors per hour. What is the probability that I will commit 2 errors in a 455-word financial report?What happens when the no. of words increases/decreases (in case of 1000 words, 255 words)? How is the 𝜆 affected?How does it influence the PMF? Give a pictorial representation of the same to validate your answer"
   ]
  },
  {
   "cell_type": "code",
   "execution_count": 38,
   "metadata": {},
   "outputs": [
    {
     "data": {
      "text/plain": [
       "0.0012987012987012987"
      ]
     },
     "execution_count": 38,
     "metadata": {},
     "output_type": "execute_result"
    }
   ],
   "source": [
    "error_rate = ((6/60)/77)\n",
    "error_rate\n",
    "\n"
   ]
  },
  {
   "cell_type": "code",
   "execution_count": 39,
   "metadata": {},
   "outputs": [
    {
     "name": "stdout",
     "output_type": "stream",
     "text": [
      "Probability of commiting 2 errors in 455 words in financial report is 0.09669027375144444\n",
      "Probability of commiting 2 errors in 1000 words in financial report is 0.23012815007300153\n",
      "Probability of commiting 2 errors in 255 words in financial report is 0.039377135392854104\n"
     ]
    }
   ],
   "source": [
    "print(f'Probability of commiting 2 errors in 455 words in financial report is {stats.poisson.pmf(2,455*error_rate)}')\n",
    "print(f'Probability of commiting 2 errors in 1000 words in financial report is {stats.poisson.pmf(2,1000*error_rate)}')\n",
    "print(f'Probability of commiting 2 errors in 255 words in financial report is {stats.poisson.pmf(2,255*error_rate)}')"
   ]
  },
  {
   "cell_type": "code",
   "execution_count": 52,
   "metadata": {},
   "outputs": [
    {
     "data": {
      "text/plain": [
       "<matplotlib.collections.LineCollection at 0x2375620b670>"
      ]
     },
     "execution_count": 52,
     "metadata": {},
     "output_type": "execute_result"
    },
    {
     "data": {
      "image/png": "[encoded data removed]",
      "text/plain": [
       "<Figure size 720x144 with 1 Axes>"
      ]
     },
     "metadata": {
      "needs_background": "light"
     },
     "output_type": "display_data"
    }
   ],
   "source": [
    "x=range(55,1055,50)\n",
    "mu=[i* error_rate for i in x]\n",
    "fig,ax = plt.subplots(1,1,figsize=(10,2))\n",
    "ax.plot(x,stats.poisson.pmf(2,mu), ms=8)\n",
    "ax.vlines(x,0, stats.poisson.pmf(2,mu), colors='r', lw=10, alpha=0.5)\n",
    "#Error increasing with increase in number o"
   ]
  },
  {
   "cell_type": "code",
   "execution_count": 55,
   "metadata": {},
   "outputs": [
    {
     "data": {
      "text/plain": [
       "<matplotlib.collections.LineCollection at 0x23755b39940>"
      ]
     },
     "execution_count": 55,
     "metadata": {},
     "output_type": "execute_result"
    },
    {
     "data": {
      "image/png": "[encoded data removed]",
      "text/plain": [
       "<Figure size 720x144 with 1 Axes>"
      ]
     },
     "metadata": {
      "needs_background": "light"
     },
     "output_type": "display_data"
    }
   ],
   "source": [
    "fig,ax = plt.subplots(1,1,figsize=(10,2))\n",
    "ax.plot(x,mu, ms=8)\n",
    "ax.vlines(x,0,mu, colors='r', lw=5, alpha=0.5)\n",
    "#Value of mu increasing with increase in number of words"
   ]
  },
  {
   "cell_type": "markdown",
   "metadata": {},
   "source": [
    "#### 10. Please compute the following:\n",
    "#### a) P(Z > 1.26), . P(Z < −0.86), P(Z > −1.37), P(−1.25 < Z < 0.37), . P(Z ≤ −4.6)\n",
    "#### b) Find the value 𝑧 such that 𝑃(𝑍 > 𝑧) = 0.05\n",
    "#### c) Find the value of 𝑧 such that 𝑃(−𝑧 < 𝑍 < 𝑧) = 0.99"
   ]
  },
  {
   "cell_type": "code",
   "execution_count": 60,
   "metadata": {},
   "outputs": [
    {
     "name": "stdout",
     "output_type": "stream",
     "text": [
      "P(Z>1.26) = 0.10383\n",
      "P(Z<-0.86) = 0.19489\n",
      "P(Z>-1.37) = 0.91466\n",
      "P(−1.25 < Z < 0.37) = 0.53866\n",
      "P(Z ≤ −4.6) = 0.00000\n"
     ]
    }
   ],
   "source": [
    "print('P(Z>1.26) = %.5f'%(1-integrate.quad(stats.norm.pdf,-np.inf,1.26)[0]))\n",
    "print('P(Z<-0.86) = %.5f'%(integrate.quad(stats.norm.pdf,-np.inf,-0.86)[0]))\n",
    "print('P(Z>-1.37) = %.5f'%(1-integrate.quad(stats.norm.pdf,-np.inf,-1.37)[0]))\n",
    "print('P(−1.25 < Z < 0.37) = %.5f'%(integrate.quad(stats.norm.pdf,-1.25, 0.37)[0]))\n",
    "print('P(Z ≤ −4.6) = %.5f'%(integrate.quad(stats.norm.pdf,-np.inf,-4.6)[0]))"
   ]
  },
  {
   "cell_type": "code",
   "execution_count": 63,
   "metadata": {},
   "outputs": [
    {
     "name": "stdout",
     "output_type": "stream",
     "text": [
      "P(Z>z)=0.05 is 1.64\n",
      "𝑃(−𝑧 < 𝑍 < 𝑧) = 0.99 is 2.58\n"
     ]
    }
   ],
   "source": [
    "print('P(Z>z)=0.05 is %.2f'%(-1*stats.norm.ppf(0.05)))\n",
    "print('𝑃(−𝑧 < 𝑍 < 𝑧) = 0.99 is %.2f'%(abs(stats.norm.ppf(0.005))))"
   ]
  },
  {
   "cell_type": "markdown",
   "metadata": {},
   "source": [
    "#### 11.The current flow in a copper wire follow a normal distribution with a mean of 10 𝑚A and a variance of 4 (𝑚𝐴)2. What is the probability that a current measurement will exceed 13 𝑚𝐴? What is the probability that a current measurement is between 9 and 11mA? Determine the current measurement which has a probability of 0.98.\n"
   ]
  },
  {
   "cell_type": "code",
   "execution_count": 78,
   "metadata": {},
   "outputs": [
    {
     "name": "stdout",
     "output_type": "stream",
     "text": [
      "Probability that current > 13mA is: 0.06680720126885797\n",
      "Probability that current is between 9 mA and 11 mA is : 1.3085375387259144\n"
     ]
    }
   ],
   "source": [
    "mean = 10\n",
    "std = 2\n",
    "\n",
    "def I(z, b=-np.inf):\n",
    "    z = (z-mean)/std\n",
    "    return integrate.quad(norm.pdf,b,z)[0]\n",
    "\n",
    "print(f\"Probability that current > 13mA is: {1-integrate.quad(stats.norm.pdf,-np.inf,(13 - mean)/std)[0]}\")\n",
    "print(f\"Probability that current is between 9 mA and 11 mA is : {1-(integrate.quad(stats.norm.pdf,9,((11- mean)/std))[0])}\")"
   ]
  },
  {
   "cell_type": "markdown",
   "metadata": {},
   "source": [
    "#### 12.The shaft in a piston has its diameter normally distributed with a mean of 0.2508 inch and a standard deviation of 0.0005 inch. The specifications of the shaft are 0.2500 ∓0.0015 inch. What proportion of shafts are in sync with the specifications? If the process is centered so that the mean is equal to the target value of 0.2500, what proportion of shafts conform to the new specifications? What is your conclusion from this experiment?"
   ]
  },
  {
   "cell_type": "code",
   "execution_count": 79,
   "metadata": {},
   "outputs": [
    {
     "name": "stdout",
     "output_type": "stream",
     "text": [
      "Proportion of shafts with dia in range of 0.2485<d<0.2515 when mean diameter:(0.2508, None)\n",
      "Proportion of shafts with dia in range of 0.2485<d<0.2515 when mean diameter:(0.25, None)\n"
     ]
    }
   ],
   "source": [
    "mean =0.2508\n",
    "std =0.0005\n",
    "#specified dia in the range of 0.2485<d<0.2515\n",
    "#case-1 if mean_dia=0.2508\n",
    "def I(mean,std,a,b) :\n",
    "  #gives P(Z<=x)\n",
    "  a=(a-mean)/std\n",
    "  b=(b-mean)/std\n",
    "print(f\"Proportion of shafts with dia in range of 0.2485<d<0.2515 when mean diameter:{0.2508,a(a-mean)/std I(0.2508,0.0005,0.2485,0.2515)}\")\n",
    "print(f\"Proportion of shafts with dia in range of 0.2485<d<0.2515 when mean diameter:{0.2500,I(0.2500,0.0005,0.2485,0.2515)}\")"
   ]
  },
  {
   "cell_type": "code",
   "execution_count": null,
   "metadata": {},
   "outputs": [],
   "source": []
  }
 ],
 "metadata": {
  "kernelspec": {
   "display_name": "Python 3",
   "language": "python",
   "name": "python3"
  },
  "language_info": {
   "codemirror_mode": {
    "name": "ipython",
    "version": 3
   },
   "file_extension": ".py",
   "mimetype": "text/x-python",
   "name": "python",
   "nbconvert_exporter": "python",
   "pygments_lexer": "ipython3",
   "version": "3.8.5"
  }
 },
 "nbformat": 4,
 "nbformat_minor": 4
}
