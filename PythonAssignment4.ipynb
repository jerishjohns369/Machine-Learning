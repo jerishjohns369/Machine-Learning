{
 "cells": [
  {
   "cell_type": "markdown",
   "metadata": {},
   "source": [
    "#### 1.1 Write a Python Program(with class concepts) to find the area of the triangle using the below  formula. \n",
    "#### area = (s*(s-a)*(s-b)*(s-c)) ** 0.5 \n",
    "#### Function to take the length of the sides of triangle from user should be defined in the parent  class and function to calculate the area should be defined in subclass. \n"
   ]
  },
  {
   "cell_type": "code",
   "execution_count": 1,
   "metadata": {},
   "outputs": [],
   "source": [
    "class get_sides:\n",
    "    def __init__(self):\n",
    "        self.side1,self.side2,self.side3 = map(int,input(\"Enter the sides :\").split())\n",
    "        return self.side1,self.side2,self.side3\n",
    "\n",
    "class triangle_area(get_sides):\n",
    "    \n",
    "    def __init__(self):\n",
    "        self.side1,self.side2,self.side3 = super().__init__()\n",
    "        \n",
    "    def calculate_area(self,):\n",
    "        s = (self.side1 + self.side2+ self.side3)/2\n",
    "        area = (s*(s-self.side1)*(s-self.side2)*(s-self.side3))**0.5\n",
    "        return area\n",
    "    "
   ]
  },
  {
   "cell_type": "code",
   "execution_count": 2,
   "metadata": {},
   "outputs": [
    {
     "name": "stdout",
     "output_type": "stream",
     "text": [
      "Enter the sides :4 5 6\n"
     ]
    }
   ],
   "source": [
    "obj1 = triangle_area()"
   ]
  },
  {
   "cell_type": "code",
   "execution_count": 3,
   "metadata": {},
   "outputs": [
    {
     "name": "stdout",
     "output_type": "stream",
     "text": [
      "Area of given triangle is  9.921567416492215\n"
     ]
    }
   ],
   "source": [
    "area = obj1.calculate_area()\n",
    "print(\"Area of given triangle is \",area)"
   ]
  },
  {
   "cell_type": "markdown",
   "metadata": {},
   "source": [
    "#### 1.2 Write a function filter_long_words() that takes a list of words and an integer n and returns  the list of words that are longer than n. "
   ]
  },
  {
   "cell_type": "code",
   "execution_count": 4,
   "metadata": {},
   "outputs": [],
   "source": [
    "def get_words_exceeding_max_count(word,max_word_count):\n",
    "    if(len(word)>max_word_count):\n",
    "        return True\n",
    "def filter_long_words(words_list,max_count):\n",
    "    filtered_list = filter(lambda x :get_words_exceeding_max_count(x,max_count),words_list)\n",
    "    type(filtered_list)\n",
    "    return filtered_list"
   ]
  },
  {
   "cell_type": "code",
   "execution_count": 5,
   "metadata": {},
   "outputs": [
    {
     "name": "stdout",
     "output_type": "stream",
     "text": [
      "Enter the list of words:This is a sample text\n",
      "Enter max word count 4\n",
      "['sample']\n"
     ]
    }
   ],
   "source": [
    "words_list = input(\"Enter the list of words:\").split()\n",
    "max_count = int(input(\"Enter max word count \"))\n",
    "filtered_list = filter_long_words(words_list,max_count)\n",
    "print(list(filtered_list))"
   ]
  },
  {
   "cell_type": "markdown",
   "metadata": {},
   "source": [
    "#### Write a Python program using function concept that maps list of words into a list of integers  representing the lengths of the corresponding words. "
   ]
  },
  {
   "cell_type": "code",
   "execution_count": 6,
   "metadata": {},
   "outputs": [],
   "source": [
    "def map_string_to_length(string):\n",
    "    return len(string)"
   ]
  },
  {
   "cell_type": "code",
   "execution_count": 7,
   "metadata": {},
   "outputs": [
    {
     "name": "stdout",
     "output_type": "stream",
     "text": [
      "Enter list of string : this is a sample text\n"
     ]
    }
   ],
   "source": [
    "string_list = input(\"Enter list of string : \").split()"
   ]
  },
  {
   "cell_type": "code",
   "execution_count": 8,
   "metadata": {},
   "outputs": [
    {
     "name": "stdout",
     "output_type": "stream",
     "text": [
      "[4, 2, 1, 6, 4]\n"
     ]
    }
   ],
   "source": [
    "output = list(map(map_string_to_length,string_list))\n",
    "print(output)"
   ]
  },
  {
   "cell_type": "markdown",
   "metadata": {},
   "source": [
    "#### Write a Python function which takes a character (i.e. a string of length 1) and returns True if  it is a vowel, False otherwise. "
   ]
  },
  {
   "cell_type": "code",
   "execution_count": 9,
   "metadata": {},
   "outputs": [],
   "source": [
    "def check_if_vowel(string):\n",
    "    vowels = ['a','e','i','o','u']\n",
    "    if(string.lower() in vowels):\n",
    "        return True\n",
    "    else:\n",
    "        return False"
   ]
  },
  {
   "cell_type": "code",
   "execution_count": 10,
   "metadata": {},
   "outputs": [
    {
     "name": "stdout",
     "output_type": "stream",
     "text": [
      "Enter your characterA\n",
      "Is entered character a vowel :  True\n"
     ]
    }
   ],
   "source": [
    "character = input(\"Enter your character\")\n",
    "print(\"Is entered character a vowel : \",check_if_vowel(character))"
   ]
  },
  {
   "cell_type": "code",
   "execution_count": null,
   "metadata": {},
   "outputs": [],
   "source": []
  }
 ],
 "metadata": {
  "kernelspec": {
   "display_name": "Python 3",
   "language": "python",
   "name": "python3"
  },
  "language_info": {
   "codemirror_mode": {
    "name": "ipython",
    "version": 3
   },
   "file_extension": ".py",
   "mimetype": "text/x-python",
   "name": "python",
   "nbconvert_exporter": "python",
   "pygments_lexer": "ipython3",
   "version": "3.8.5"
  }
 },
 "nbformat": 4,
 "nbformat_minor": 4
}
